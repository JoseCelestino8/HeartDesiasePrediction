{
 "cells": [
  {
   "cell_type": "code",
   "execution_count": 20,
   "metadata": {},
   "outputs": [],
   "source": [
    "import pandas as pd\n",
    "import numpy as np\n",
    "import matplotlib.pyplot as plt\n",
    "import plotly.express as px\n",
    "import seaborn as sns\n",
    "sns.set_theme(style=\"dark\")\n",
    "sns.set_palette(\"RdBu_r\")\n",
    "from matplotlib import rcParams\n",
    "rcParams['figure.figsize'] = 11.7,8.27"
   ]
  },
  {
   "cell_type": "code",
   "execution_count": 21,
   "metadata": {},
   "outputs": [],
   "source": [
    "df = pd.read_csv('heart.csv')"
   ]
  },
  {
   "cell_type": "markdown",
   "metadata": {},
   "source": [
    "## data sourced from www.kaggle.com/fedesoriano/heart-failure-prediction"
   ]
  },
  {
   "cell_type": "markdown",
   "metadata": {},
   "source": [
    "Possible themes to be explored:\n",
    "How much of an indicator is RestingECG for Heart Desiease?\n",
    "How many people are having premature heart conditions?\n"
   ]
  },
  {
   "cell_type": "code",
   "execution_count": 22,
   "metadata": {},
   "outputs": [
    {
     "data": {
      "text/html": [
       "<div>\n",
       "<style scoped>\n",
       "    .dataframe tbody tr th:only-of-type {\n",
       "        vertical-align: middle;\n",
       "    }\n",
       "\n",
       "    .dataframe tbody tr th {\n",
       "        vertical-align: top;\n",
       "    }\n",
       "\n",
       "    .dataframe thead th {\n",
       "        text-align: right;\n",
       "    }\n",
       "</style>\n",
       "<table border=\"1\" class=\"dataframe\">\n",
       "  <thead>\n",
       "    <tr style=\"text-align: right;\">\n",
       "      <th></th>\n",
       "      <th>Age</th>\n",
       "      <th>Sex</th>\n",
       "      <th>ChestPainType</th>\n",
       "      <th>RestingBP</th>\n",
       "      <th>Cholesterol</th>\n",
       "      <th>FastingBS</th>\n",
       "      <th>RestingECG</th>\n",
       "      <th>MaxHR</th>\n",
       "      <th>ExerciseAngina</th>\n",
       "      <th>Oldpeak</th>\n",
       "      <th>ST_Slope</th>\n",
       "      <th>HeartDisease</th>\n",
       "    </tr>\n",
       "  </thead>\n",
       "  <tbody>\n",
       "    <tr>\n",
       "      <th>0</th>\n",
       "      <td>40</td>\n",
       "      <td>M</td>\n",
       "      <td>ATA</td>\n",
       "      <td>140</td>\n",
       "      <td>289</td>\n",
       "      <td>0</td>\n",
       "      <td>Normal</td>\n",
       "      <td>172</td>\n",
       "      <td>N</td>\n",
       "      <td>0.0</td>\n",
       "      <td>Up</td>\n",
       "      <td>0</td>\n",
       "    </tr>\n",
       "    <tr>\n",
       "      <th>1</th>\n",
       "      <td>49</td>\n",
       "      <td>F</td>\n",
       "      <td>NAP</td>\n",
       "      <td>160</td>\n",
       "      <td>180</td>\n",
       "      <td>0</td>\n",
       "      <td>Normal</td>\n",
       "      <td>156</td>\n",
       "      <td>N</td>\n",
       "      <td>1.0</td>\n",
       "      <td>Flat</td>\n",
       "      <td>1</td>\n",
       "    </tr>\n",
       "    <tr>\n",
       "      <th>2</th>\n",
       "      <td>37</td>\n",
       "      <td>M</td>\n",
       "      <td>ATA</td>\n",
       "      <td>130</td>\n",
       "      <td>283</td>\n",
       "      <td>0</td>\n",
       "      <td>ST</td>\n",
       "      <td>98</td>\n",
       "      <td>N</td>\n",
       "      <td>0.0</td>\n",
       "      <td>Up</td>\n",
       "      <td>0</td>\n",
       "    </tr>\n",
       "    <tr>\n",
       "      <th>3</th>\n",
       "      <td>48</td>\n",
       "      <td>F</td>\n",
       "      <td>ASY</td>\n",
       "      <td>138</td>\n",
       "      <td>214</td>\n",
       "      <td>0</td>\n",
       "      <td>Normal</td>\n",
       "      <td>108</td>\n",
       "      <td>Y</td>\n",
       "      <td>1.5</td>\n",
       "      <td>Flat</td>\n",
       "      <td>1</td>\n",
       "    </tr>\n",
       "    <tr>\n",
       "      <th>4</th>\n",
       "      <td>54</td>\n",
       "      <td>M</td>\n",
       "      <td>NAP</td>\n",
       "      <td>150</td>\n",
       "      <td>195</td>\n",
       "      <td>0</td>\n",
       "      <td>Normal</td>\n",
       "      <td>122</td>\n",
       "      <td>N</td>\n",
       "      <td>0.0</td>\n",
       "      <td>Up</td>\n",
       "      <td>0</td>\n",
       "    </tr>\n",
       "  </tbody>\n",
       "</table>\n",
       "</div>"
      ],
      "text/plain": [
       "   Age Sex ChestPainType  RestingBP  Cholesterol  FastingBS RestingECG  MaxHR  \\\n",
       "0   40   M           ATA        140          289          0     Normal    172   \n",
       "1   49   F           NAP        160          180          0     Normal    156   \n",
       "2   37   M           ATA        130          283          0         ST     98   \n",
       "3   48   F           ASY        138          214          0     Normal    108   \n",
       "4   54   M           NAP        150          195          0     Normal    122   \n",
       "\n",
       "  ExerciseAngina  Oldpeak ST_Slope  HeartDisease  \n",
       "0              N      0.0       Up             0  \n",
       "1              N      1.0     Flat             1  \n",
       "2              N      0.0       Up             0  \n",
       "3              Y      1.5     Flat             1  \n",
       "4              N      0.0       Up             0  "
      ]
     },
     "execution_count": 22,
     "metadata": {},
     "output_type": "execute_result"
    }
   ],
   "source": [
    "df.head()"
   ]
  },
  {
   "cell_type": "code",
   "execution_count": 23,
   "metadata": {},
   "outputs": [
    {
     "data": {
      "text/plain": [
       "(918, 12)"
      ]
     },
     "execution_count": 23,
     "metadata": {},
     "output_type": "execute_result"
    }
   ],
   "source": [
    "df.shape"
   ]
  },
  {
   "cell_type": "code",
   "execution_count": 24,
   "metadata": {},
   "outputs": [
    {
     "data": {
      "text/html": [
       "<div>\n",
       "<style scoped>\n",
       "    .dataframe tbody tr th:only-of-type {\n",
       "        vertical-align: middle;\n",
       "    }\n",
       "\n",
       "    .dataframe tbody tr th {\n",
       "        vertical-align: top;\n",
       "    }\n",
       "\n",
       "    .dataframe thead th {\n",
       "        text-align: right;\n",
       "    }\n",
       "</style>\n",
       "<table border=\"1\" class=\"dataframe\">\n",
       "  <thead>\n",
       "    <tr style=\"text-align: right;\">\n",
       "      <th></th>\n",
       "      <th>Age</th>\n",
       "      <th>RestingBP</th>\n",
       "      <th>Cholesterol</th>\n",
       "      <th>FastingBS</th>\n",
       "      <th>MaxHR</th>\n",
       "      <th>Oldpeak</th>\n",
       "      <th>HeartDisease</th>\n",
       "    </tr>\n",
       "  </thead>\n",
       "  <tbody>\n",
       "    <tr>\n",
       "      <th>count</th>\n",
       "      <td>918.000000</td>\n",
       "      <td>918.000000</td>\n",
       "      <td>918.000000</td>\n",
       "      <td>918.000000</td>\n",
       "      <td>918.000000</td>\n",
       "      <td>918.000000</td>\n",
       "      <td>918.000000</td>\n",
       "    </tr>\n",
       "    <tr>\n",
       "      <th>mean</th>\n",
       "      <td>53.510893</td>\n",
       "      <td>132.396514</td>\n",
       "      <td>198.799564</td>\n",
       "      <td>0.233115</td>\n",
       "      <td>136.809368</td>\n",
       "      <td>0.887364</td>\n",
       "      <td>0.553377</td>\n",
       "    </tr>\n",
       "    <tr>\n",
       "      <th>std</th>\n",
       "      <td>9.432617</td>\n",
       "      <td>18.514154</td>\n",
       "      <td>109.384145</td>\n",
       "      <td>0.423046</td>\n",
       "      <td>25.460334</td>\n",
       "      <td>1.066570</td>\n",
       "      <td>0.497414</td>\n",
       "    </tr>\n",
       "    <tr>\n",
       "      <th>min</th>\n",
       "      <td>28.000000</td>\n",
       "      <td>0.000000</td>\n",
       "      <td>0.000000</td>\n",
       "      <td>0.000000</td>\n",
       "      <td>60.000000</td>\n",
       "      <td>-2.600000</td>\n",
       "      <td>0.000000</td>\n",
       "    </tr>\n",
       "    <tr>\n",
       "      <th>25%</th>\n",
       "      <td>47.000000</td>\n",
       "      <td>120.000000</td>\n",
       "      <td>173.250000</td>\n",
       "      <td>0.000000</td>\n",
       "      <td>120.000000</td>\n",
       "      <td>0.000000</td>\n",
       "      <td>0.000000</td>\n",
       "    </tr>\n",
       "    <tr>\n",
       "      <th>50%</th>\n",
       "      <td>54.000000</td>\n",
       "      <td>130.000000</td>\n",
       "      <td>223.000000</td>\n",
       "      <td>0.000000</td>\n",
       "      <td>138.000000</td>\n",
       "      <td>0.600000</td>\n",
       "      <td>1.000000</td>\n",
       "    </tr>\n",
       "    <tr>\n",
       "      <th>75%</th>\n",
       "      <td>60.000000</td>\n",
       "      <td>140.000000</td>\n",
       "      <td>267.000000</td>\n",
       "      <td>0.000000</td>\n",
       "      <td>156.000000</td>\n",
       "      <td>1.500000</td>\n",
       "      <td>1.000000</td>\n",
       "    </tr>\n",
       "    <tr>\n",
       "      <th>max</th>\n",
       "      <td>77.000000</td>\n",
       "      <td>200.000000</td>\n",
       "      <td>603.000000</td>\n",
       "      <td>1.000000</td>\n",
       "      <td>202.000000</td>\n",
       "      <td>6.200000</td>\n",
       "      <td>1.000000</td>\n",
       "    </tr>\n",
       "  </tbody>\n",
       "</table>\n",
       "</div>"
      ],
      "text/plain": [
       "              Age   RestingBP  Cholesterol   FastingBS       MaxHR  \\\n",
       "count  918.000000  918.000000   918.000000  918.000000  918.000000   \n",
       "mean    53.510893  132.396514   198.799564    0.233115  136.809368   \n",
       "std      9.432617   18.514154   109.384145    0.423046   25.460334   \n",
       "min     28.000000    0.000000     0.000000    0.000000   60.000000   \n",
       "25%     47.000000  120.000000   173.250000    0.000000  120.000000   \n",
       "50%     54.000000  130.000000   223.000000    0.000000  138.000000   \n",
       "75%     60.000000  140.000000   267.000000    0.000000  156.000000   \n",
       "max     77.000000  200.000000   603.000000    1.000000  202.000000   \n",
       "\n",
       "          Oldpeak  HeartDisease  \n",
       "count  918.000000    918.000000  \n",
       "mean     0.887364      0.553377  \n",
       "std      1.066570      0.497414  \n",
       "min     -2.600000      0.000000  \n",
       "25%      0.000000      0.000000  \n",
       "50%      0.600000      1.000000  \n",
       "75%      1.500000      1.000000  \n",
       "max      6.200000      1.000000  "
      ]
     },
     "execution_count": 24,
     "metadata": {},
     "output_type": "execute_result"
    }
   ],
   "source": [
    "df.describe()"
   ]
  },
  {
   "cell_type": "code",
   "execution_count": 25,
   "metadata": {},
   "outputs": [
    {
     "name": "stdout",
     "output_type": "stream",
     "text": [
      "<class 'pandas.core.frame.DataFrame'>\n",
      "RangeIndex: 918 entries, 0 to 917\n",
      "Data columns (total 12 columns):\n",
      " #   Column          Non-Null Count  Dtype  \n",
      "---  ------          --------------  -----  \n",
      " 0   Age             918 non-null    int64  \n",
      " 1   Sex             918 non-null    object \n",
      " 2   ChestPainType   918 non-null    object \n",
      " 3   RestingBP       918 non-null    int64  \n",
      " 4   Cholesterol     918 non-null    int64  \n",
      " 5   FastingBS       918 non-null    int64  \n",
      " 6   RestingECG      918 non-null    object \n",
      " 7   MaxHR           918 non-null    int64  \n",
      " 8   ExerciseAngina  918 non-null    object \n",
      " 9   Oldpeak         918 non-null    float64\n",
      " 10  ST_Slope        918 non-null    object \n",
      " 11  HeartDisease    918 non-null    int64  \n",
      "dtypes: float64(1), int64(6), object(5)\n",
      "memory usage: 86.2+ KB\n"
     ]
    }
   ],
   "source": [
    "df.info()"
   ]
  },
  {
   "cell_type": "code",
   "execution_count": 26,
   "metadata": {},
   "outputs": [
    {
     "data": {
      "text/plain": [
       "Age               0\n",
       "Sex               0\n",
       "ChestPainType     0\n",
       "RestingBP         0\n",
       "Cholesterol       0\n",
       "FastingBS         0\n",
       "RestingECG        0\n",
       "MaxHR             0\n",
       "ExerciseAngina    0\n",
       "Oldpeak           0\n",
       "ST_Slope          0\n",
       "HeartDisease      0\n",
       "dtype: int64"
      ]
     },
     "execution_count": 26,
     "metadata": {},
     "output_type": "execute_result"
    }
   ],
   "source": [
    "df.isna().sum()"
   ]
  },
  {
   "cell_type": "code",
   "execution_count": 27,
   "metadata": {},
   "outputs": [
    {
     "data": {
      "image/png": "[encoded data removed]",
      "text/plain": [
       "<Figure size 842.4x595.44 with 1 Axes>"
      ]
     },
     "metadata": {},
     "output_type": "display_data"
    }
   ],
   "source": [
    "sns.countplot(x=df['Sex'] );"
   ]
  },
  {
   "cell_type": "code",
   "execution_count": 28,
   "metadata": {},
   "outputs": [],
   "source": [
    "df_num = df.select_dtypes(include='int64')\n",
    "df_cat = df.select_dtypes(include='object')"
   ]
  },
  {
   "cell_type": "code",
   "execution_count": 29,
   "metadata": {
    "scrolled": false
   },
   "outputs": [
    {
     "data": {
      "image/png": "[encoded data removed]",
      "text/plain": [
       "<Figure size 842.4x595.44 with 1 Axes>"
      ]
     },
     "metadata": {},
     "output_type": "display_data"
    },
    {
     "data": {
      "image/png": "[encoded data removed]",
      "text/plain": [
       "<Figure size 842.4x595.44 with 1 Axes>"
      ]
     },
     "metadata": {},
     "output_type": "display_data"
    },
    {
     "data": {
      "image/png": "[encoded data removed]",
      "text/plain": [
       "<Figure size 842.4x595.44 with 1 Axes>"
      ]
     },
     "metadata": {},
     "output_type": "display_data"
    },
    {
     "data": {
      "image/png": "[encoded data removed]",
      "text/plain": [
       "<Figure size 842.4x595.44 with 1 Axes>"
      ]
     },
     "metadata": {},
     "output_type": "display_data"
    },
    {
     "data": {
      "image/png": "[encoded data removed]",
      "text/plain": [
       "<Figure size 842.4x595.44 with 1 Axes>"
      ]
     },
     "metadata": {},
     "output_type": "display_data"
    },
    {
     "data": {
      "image/png": "[encoded data removed]",
      "text/plain": [
       "<Figure size 842.4x595.44 with 1 Axes>"
      ]
     },
     "metadata": {},
     "output_type": "display_data"
    }
   ],
   "source": [
    "sns.set_style(\"whitegrid\")\n",
    "for i in df_num.columns:\n",
    "    plt.hist(df_num[i])\n",
    "    plt.title(i)\n",
    "    plt.show()"
   ]
  },
  {
   "cell_type": "code",
   "execution_count": 30,
   "metadata": {},
   "outputs": [
    {
     "data": {
      "text/html": [
       "<div>\n",
       "<style scoped>\n",
       "    .dataframe tbody tr th:only-of-type {\n",
       "        vertical-align: middle;\n",
       "    }\n",
       "\n",
       "    .dataframe tbody tr th {\n",
       "        vertical-align: top;\n",
       "    }\n",
       "\n",
       "    .dataframe thead th {\n",
       "        text-align: right;\n",
       "    }\n",
       "</style>\n",
       "<table border=\"1\" class=\"dataframe\">\n",
       "  <thead>\n",
       "    <tr style=\"text-align: right;\">\n",
       "      <th></th>\n",
       "      <th>Age</th>\n",
       "      <th>Sex</th>\n",
       "      <th>ChestPainType</th>\n",
       "      <th>RestingBP</th>\n",
       "      <th>Cholesterol</th>\n",
       "      <th>FastingBS</th>\n",
       "      <th>RestingECG</th>\n",
       "      <th>MaxHR</th>\n",
       "      <th>ExerciseAngina</th>\n",
       "      <th>Oldpeak</th>\n",
       "      <th>ST_Slope</th>\n",
       "      <th>HeartDisease</th>\n",
       "    </tr>\n",
       "  </thead>\n",
       "  <tbody>\n",
       "    <tr>\n",
       "      <th>1</th>\n",
       "      <td>49</td>\n",
       "      <td>F</td>\n",
       "      <td>NAP</td>\n",
       "      <td>160</td>\n",
       "      <td>180</td>\n",
       "      <td>0</td>\n",
       "      <td>Normal</td>\n",
       "      <td>156</td>\n",
       "      <td>N</td>\n",
       "      <td>1.0</td>\n",
       "      <td>Flat</td>\n",
       "      <td>1</td>\n",
       "    </tr>\n",
       "    <tr>\n",
       "      <th>3</th>\n",
       "      <td>48</td>\n",
       "      <td>F</td>\n",
       "      <td>ASY</td>\n",
       "      <td>138</td>\n",
       "      <td>214</td>\n",
       "      <td>0</td>\n",
       "      <td>Normal</td>\n",
       "      <td>108</td>\n",
       "      <td>Y</td>\n",
       "      <td>1.5</td>\n",
       "      <td>Flat</td>\n",
       "      <td>1</td>\n",
       "    </tr>\n",
       "    <tr>\n",
       "      <th>8</th>\n",
       "      <td>37</td>\n",
       "      <td>M</td>\n",
       "      <td>ASY</td>\n",
       "      <td>140</td>\n",
       "      <td>207</td>\n",
       "      <td>0</td>\n",
       "      <td>Normal</td>\n",
       "      <td>130</td>\n",
       "      <td>Y</td>\n",
       "      <td>1.5</td>\n",
       "      <td>Flat</td>\n",
       "      <td>1</td>\n",
       "    </tr>\n",
       "    <tr>\n",
       "      <th>13</th>\n",
       "      <td>49</td>\n",
       "      <td>M</td>\n",
       "      <td>ASY</td>\n",
       "      <td>140</td>\n",
       "      <td>234</td>\n",
       "      <td>0</td>\n",
       "      <td>Normal</td>\n",
       "      <td>140</td>\n",
       "      <td>Y</td>\n",
       "      <td>1.0</td>\n",
       "      <td>Flat</td>\n",
       "      <td>1</td>\n",
       "    </tr>\n",
       "    <tr>\n",
       "      <th>16</th>\n",
       "      <td>38</td>\n",
       "      <td>M</td>\n",
       "      <td>ASY</td>\n",
       "      <td>110</td>\n",
       "      <td>196</td>\n",
       "      <td>0</td>\n",
       "      <td>Normal</td>\n",
       "      <td>166</td>\n",
       "      <td>N</td>\n",
       "      <td>0.0</td>\n",
       "      <td>Flat</td>\n",
       "      <td>1</td>\n",
       "    </tr>\n",
       "    <tr>\n",
       "      <th>...</th>\n",
       "      <td>...</td>\n",
       "      <td>...</td>\n",
       "      <td>...</td>\n",
       "      <td>...</td>\n",
       "      <td>...</td>\n",
       "      <td>...</td>\n",
       "      <td>...</td>\n",
       "      <td>...</td>\n",
       "      <td>...</td>\n",
       "      <td>...</td>\n",
       "      <td>...</td>\n",
       "      <td>...</td>\n",
       "    </tr>\n",
       "    <tr>\n",
       "      <th>907</th>\n",
       "      <td>44</td>\n",
       "      <td>M</td>\n",
       "      <td>ASY</td>\n",
       "      <td>120</td>\n",
       "      <td>169</td>\n",
       "      <td>0</td>\n",
       "      <td>Normal</td>\n",
       "      <td>144</td>\n",
       "      <td>Y</td>\n",
       "      <td>2.8</td>\n",
       "      <td>Down</td>\n",
       "      <td>1</td>\n",
       "    </tr>\n",
       "    <tr>\n",
       "      <th>909</th>\n",
       "      <td>63</td>\n",
       "      <td>F</td>\n",
       "      <td>ASY</td>\n",
       "      <td>124</td>\n",
       "      <td>197</td>\n",
       "      <td>0</td>\n",
       "      <td>Normal</td>\n",
       "      <td>136</td>\n",
       "      <td>Y</td>\n",
       "      <td>0.0</td>\n",
       "      <td>Flat</td>\n",
       "      <td>1</td>\n",
       "    </tr>\n",
       "    <tr>\n",
       "      <th>912</th>\n",
       "      <td>57</td>\n",
       "      <td>F</td>\n",
       "      <td>ASY</td>\n",
       "      <td>140</td>\n",
       "      <td>241</td>\n",
       "      <td>0</td>\n",
       "      <td>Normal</td>\n",
       "      <td>123</td>\n",
       "      <td>Y</td>\n",
       "      <td>0.2</td>\n",
       "      <td>Flat</td>\n",
       "      <td>1</td>\n",
       "    </tr>\n",
       "    <tr>\n",
       "      <th>913</th>\n",
       "      <td>45</td>\n",
       "      <td>M</td>\n",
       "      <td>TA</td>\n",
       "      <td>110</td>\n",
       "      <td>264</td>\n",
       "      <td>0</td>\n",
       "      <td>Normal</td>\n",
       "      <td>132</td>\n",
       "      <td>N</td>\n",
       "      <td>1.2</td>\n",
       "      <td>Flat</td>\n",
       "      <td>1</td>\n",
       "    </tr>\n",
       "    <tr>\n",
       "      <th>916</th>\n",
       "      <td>57</td>\n",
       "      <td>F</td>\n",
       "      <td>ATA</td>\n",
       "      <td>130</td>\n",
       "      <td>236</td>\n",
       "      <td>0</td>\n",
       "      <td>LVH</td>\n",
       "      <td>174</td>\n",
       "      <td>N</td>\n",
       "      <td>0.0</td>\n",
       "      <td>Flat</td>\n",
       "      <td>1</td>\n",
       "    </tr>\n",
       "  </tbody>\n",
       "</table>\n",
       "<p>226 rows × 12 columns</p>\n",
       "</div>"
      ],
      "text/plain": [
       "     Age Sex ChestPainType  RestingBP  Cholesterol  FastingBS RestingECG  \\\n",
       "1     49   F           NAP        160          180          0     Normal   \n",
       "3     48   F           ASY        138          214          0     Normal   \n",
       "8     37   M           ASY        140          207          0     Normal   \n",
       "13    49   M           ASY        140          234          0     Normal   \n",
       "16    38   M           ASY        110          196          0     Normal   \n",
       "..   ...  ..           ...        ...          ...        ...        ...   \n",
       "907   44   M           ASY        120          169          0     Normal   \n",
       "909   63   F           ASY        124          197          0     Normal   \n",
       "912   57   F           ASY        140          241          0     Normal   \n",
       "913   45   M            TA        110          264          0     Normal   \n",
       "916   57   F           ATA        130          236          0        LVH   \n",
       "\n",
       "     MaxHR ExerciseAngina  Oldpeak ST_Slope  HeartDisease  \n",
       "1      156              N      1.0     Flat             1  \n",
       "3      108              Y      1.5     Flat             1  \n",
       "8      130              Y      1.5     Flat             1  \n",
       "13     140              Y      1.0     Flat             1  \n",
       "16     166              N      0.0     Flat             1  \n",
       "..     ...            ...      ...      ...           ...  \n",
       "907    144              Y      2.8     Down             1  \n",
       "909    136              Y      0.0     Flat             1  \n",
       "912    123              Y      0.2     Flat             1  \n",
       "913    132              N      1.2     Flat             1  \n",
       "916    174              N      0.0     Flat             1  \n",
       "\n",
       "[226 rows x 12 columns]"
      ]
     },
     "execution_count": 30,
     "metadata": {},
     "output_type": "execute_result"
    }
   ],
   "source": [
    "premature = df[(df['Age']<55) & (df['HeartDisease']==1) & (df['Sex']=='M') |\n",
    "               (df['Age']<65) & (df['HeartDisease']==1) & (df['Sex']=='F')]\n",
    "premature"
   ]
  },
  {
   "cell_type": "code",
   "execution_count": 31,
   "metadata": {},
   "outputs": [],
   "source": [
    "from sklearn.preprocessing import LabelEncoder"
   ]
  },
  {
   "cell_type": "code",
   "execution_count": 32,
   "metadata": {},
   "outputs": [
    {
     "data": {
      "text/html": [
       "<div>\n",
       "<style scoped>\n",
       "    .dataframe tbody tr th:only-of-type {\n",
       "        vertical-align: middle;\n",
       "    }\n",
       "\n",
       "    .dataframe tbody tr th {\n",
       "        vertical-align: top;\n",
       "    }\n",
       "\n",
       "    .dataframe thead th {\n",
       "        text-align: right;\n",
       "    }\n",
       "</style>\n",
       "<table border=\"1\" class=\"dataframe\">\n",
       "  <thead>\n",
       "    <tr style=\"text-align: right;\">\n",
       "      <th></th>\n",
       "      <th>Age</th>\n",
       "      <th>Sex</th>\n",
       "      <th>ChestPainType</th>\n",
       "      <th>RestingBP</th>\n",
       "      <th>Cholesterol</th>\n",
       "      <th>FastingBS</th>\n",
       "      <th>RestingECG</th>\n",
       "      <th>MaxHR</th>\n",
       "      <th>ExerciseAngina</th>\n",
       "      <th>Oldpeak</th>\n",
       "      <th>ST_Slope</th>\n",
       "      <th>HeartDisease</th>\n",
       "    </tr>\n",
       "  </thead>\n",
       "  <tbody>\n",
       "    <tr>\n",
       "      <th>0</th>\n",
       "      <td>40</td>\n",
       "      <td>1</td>\n",
       "      <td>1</td>\n",
       "      <td>140</td>\n",
       "      <td>289</td>\n",
       "      <td>0</td>\n",
       "      <td>1</td>\n",
       "      <td>172</td>\n",
       "      <td>0</td>\n",
       "      <td>0.0</td>\n",
       "      <td>2</td>\n",
       "      <td>0</td>\n",
       "    </tr>\n",
       "    <tr>\n",
       "      <th>1</th>\n",
       "      <td>49</td>\n",
       "      <td>0</td>\n",
       "      <td>2</td>\n",
       "      <td>160</td>\n",
       "      <td>180</td>\n",
       "      <td>0</td>\n",
       "      <td>1</td>\n",
       "      <td>156</td>\n",
       "      <td>0</td>\n",
       "      <td>1.0</td>\n",
       "      <td>1</td>\n",
       "      <td>1</td>\n",
       "    </tr>\n",
       "    <tr>\n",
       "      <th>2</th>\n",
       "      <td>37</td>\n",
       "      <td>1</td>\n",
       "      <td>1</td>\n",
       "      <td>130</td>\n",
       "      <td>283</td>\n",
       "      <td>0</td>\n",
       "      <td>2</td>\n",
       "      <td>98</td>\n",
       "      <td>0</td>\n",
       "      <td>0.0</td>\n",
       "      <td>2</td>\n",
       "      <td>0</td>\n",
       "    </tr>\n",
       "    <tr>\n",
       "      <th>3</th>\n",
       "      <td>48</td>\n",
       "      <td>0</td>\n",
       "      <td>0</td>\n",
       "      <td>138</td>\n",
       "      <td>214</td>\n",
       "      <td>0</td>\n",
       "      <td>1</td>\n",
       "      <td>108</td>\n",
       "      <td>1</td>\n",
       "      <td>1.5</td>\n",
       "      <td>1</td>\n",
       "      <td>1</td>\n",
       "    </tr>\n",
       "    <tr>\n",
       "      <th>4</th>\n",
       "      <td>54</td>\n",
       "      <td>1</td>\n",
       "      <td>2</td>\n",
       "      <td>150</td>\n",
       "      <td>195</td>\n",
       "      <td>0</td>\n",
       "      <td>1</td>\n",
       "      <td>122</td>\n",
       "      <td>0</td>\n",
       "      <td>0.0</td>\n",
       "      <td>2</td>\n",
       "      <td>0</td>\n",
       "    </tr>\n",
       "  </tbody>\n",
       "</table>\n",
       "</div>"
      ],
      "text/plain": [
       "   Age  Sex  ChestPainType  RestingBP  Cholesterol  FastingBS  RestingECG  \\\n",
       "0   40    1              1        140          289          0           1   \n",
       "1   49    0              2        160          180          0           1   \n",
       "2   37    1              1        130          283          0           2   \n",
       "3   48    0              0        138          214          0           1   \n",
       "4   54    1              2        150          195          0           1   \n",
       "\n",
       "   MaxHR  ExerciseAngina  Oldpeak  ST_Slope  HeartDisease  \n",
       "0    172               0      0.0         2             0  \n",
       "1    156               0      1.0         1             1  \n",
       "2     98               0      0.0         2             0  \n",
       "3    108               1      1.5         1             1  \n",
       "4    122               0      0.0         2             0  "
      ]
     },
     "execution_count": 32,
     "metadata": {},
     "output_type": "execute_result"
    }
   ],
   "source": [
    "le=LabelEncoder()\n",
    "\n",
    "df['Sex']=le.fit_transform(df['Sex'])\n",
    "df['RestingECG']=le.fit_transform(df['RestingECG'])\n",
    "df['ChestPainType']=le.fit_transform(df['ChestPainType'])\n",
    "df['ExerciseAngina']=le.fit_transform(df['ExerciseAngina'])\n",
    "df['ST_Slope']=le.fit_transform(df['ST_Slope'])\n",
    "\n",
    "df.head()"
   ]
  },
  {
   "cell_type": "code",
   "execution_count": 33,
   "metadata": {},
   "outputs": [
    {
     "data": {
      "text/plain": [
       "<AxesSubplot:>"
      ]
     },
     "execution_count": 33,
     "metadata": {},
     "output_type": "execute_result"
    },
    {
     "data": {
      "image/png": "[encoded data removed]",
      "text/plain": [
       "<Figure size 842.4x595.44 with 2 Axes>"
      ]
     },
     "metadata": {},
     "output_type": "display_data"
    }
   ],
   "source": [
    "sns.heatmap(df.corr(), annot=True, cmap='PiYG_r')"
   ]
  },
  {
   "cell_type": "markdown",
   "metadata": {},
   "source": [
    "## Modelos Preditivos"
   ]
  },
  {
   "cell_type": "code",
   "execution_count": 34,
   "metadata": {},
   "outputs": [],
   "source": [
    "from sklearn.tree import DecisionTreeClassifier \n",
    "from sklearn.ensemble import RandomForestClassifier\n",
    "from sklearn.neighbors import KNeighborsClassifier\n",
    "from sklearn.linear_model import LogisticRegression\n",
    "from sklearn.svm import SVC\n",
    "from sklearn.model_selection import GridSearchCV\n",
    "from sklearn.neural_network import MLPClassifier"
   ]
  },
  {
   "cell_type": "markdown",
   "metadata": {},
   "source": [
    "### Separando variáveis previsoras e classe"
   ]
  },
  {
   "cell_type": "code",
   "execution_count": 35,
   "metadata": {},
   "outputs": [
    {
     "data": {
      "text/plain": [
       "((918, 11), (918,))"
      ]
     },
     "execution_count": 35,
     "metadata": {},
     "output_type": "execute_result"
    }
   ],
   "source": [
    "x_heart = df.iloc[:,0:11]\n",
    "y_heart = df.iloc[:,11]\n",
    "\n",
    "x_heart.shape, y_heart.shape"
   ]
  },
  {
   "cell_type": "markdown",
   "metadata": {},
   "source": [
    "### Decision Tree"
   ]
  },
  {
   "cell_type": "code",
   "execution_count": 36,
   "metadata": {},
   "outputs": [],
   "source": [
    "parametros = {'criterion': ['gini', 'entropy'],\n",
    "             'splitter': ['best', 'random'],\n",
    "             'min_samples_split': [2,5,10,20],\n",
    "             'min_samples_leaf': [1, 5, 10, 20]}"
   ]
  },
  {
   "cell_type": "code",
   "execution_count": 37,
   "metadata": {},
   "outputs": [
    {
     "data": {
      "text/plain": [
       "GridSearchCV(estimator=DecisionTreeClassifier(),\n",
       "             param_grid={'criterion': ['gini', 'entropy'],\n",
       "                         'min_samples_leaf': [1, 5, 10, 20],\n",
       "                         'min_samples_split': [2, 5, 10, 20],\n",
       "                         'splitter': ['best', 'random']})"
      ]
     },
     "execution_count": 37,
     "metadata": {},
     "output_type": "execute_result"
    }
   ],
   "source": [
    "gridsearch = GridSearchCV(estimator = DecisionTreeClassifier(), param_grid = parametros)\n",
    "gridsearch.fit(x_heart, y_heart)"
   ]
  },
  {
   "cell_type": "code",
   "execution_count": 38,
   "metadata": {},
   "outputs": [
    {
     "name": "stdout",
     "output_type": "stream",
     "text": [
      "{'criterion': 'entropy', 'min_samples_leaf': 10, 'min_samples_split': 2, 'splitter': 'random'}\n",
      "0.8419577096697554\n"
     ]
    }
   ],
   "source": [
    "melhores_parametros = gridsearch.best_params_\n",
    "melhor_resultado = gridsearch.best_score_\n",
    "print(melhores_parametros)\n",
    "print(melhor_resultado)"
   ]
  },
  {
   "cell_type": "markdown",
   "metadata": {},
   "source": [
    "### Random Forest"
   ]
  },
  {
   "cell_type": "code",
   "execution_count": 39,
   "metadata": {},
   "outputs": [],
   "source": [
    "parametros = {'criterion': ['gini', 'entropy'],\n",
    "              'n_estimators': [10, 20, 40, 100, 150],\n",
    "              'min_samples_split': [2,5,10,20],\n",
    "              'min_samples_leaf': [1, 5, 10, 20]}"
   ]
  },
  {
   "cell_type": "code",
   "execution_count": 40,
   "metadata": {},
   "outputs": [
    {
     "data": {
      "text/plain": [
       "GridSearchCV(estimator=RandomForestClassifier(),\n",
       "             param_grid={'criterion': ['gini', 'entropy'],\n",
       "                         'min_samples_leaf': [1, 5, 10, 20],\n",
       "                         'min_samples_split': [2, 5, 10, 20],\n",
       "                         'n_estimators': [10, 20, 40, 100, 150]})"
      ]
     },
     "execution_count": 40,
     "metadata": {},
     "output_type": "execute_result"
    }
   ],
   "source": [
    "gridsearch = GridSearchCV(estimator = RandomForestClassifier(), param_grid = parametros)\n",
    "gridsearch.fit(x_heart, y_heart)"
   ]
  },
  {
   "cell_type": "code",
   "execution_count": 41,
   "metadata": {},
   "outputs": [
    {
     "name": "stdout",
     "output_type": "stream",
     "text": [
      "{'criterion': 'gini', 'min_samples_leaf': 10, 'min_samples_split': 5, 'n_estimators': 40}\n",
      "0.8441197434069849\n"
     ]
    }
   ],
   "source": [
    "melhores_parametros = gridsearch.best_params_\n",
    "melhor_resultado = gridsearch.best_score_\n",
    "print(melhores_parametros)\n",
    "print(melhor_resultado)"
   ]
  },
  {
   "cell_type": "markdown",
   "metadata": {},
   "source": [
    "### K Nearest Neghibors"
   ]
  },
  {
   "cell_type": "code",
   "execution_count": 42,
   "metadata": {},
   "outputs": [
    {
     "data": {
      "text/plain": [
       "GridSearchCV(estimator=KNeighborsClassifier(),\n",
       "             param_grid={'metric': ['euclidean', 'manhattan', 'chebyshev',\n",
       "                                    'minkowski'],\n",
       "                         'n_neighbors': [3, 5, 10, 20], 'p': [1, 2]})"
      ]
     },
     "execution_count": 42,
     "metadata": {},
     "output_type": "execute_result"
    }
   ],
   "source": [
    "parametros = {'n_neighbors': [3,5,10,20],\n",
    "             'p':[1,2],\n",
    "             'metric': ['euclidean','manhattan','chebyshev','minkowski']}\n",
    "gridsearch = GridSearchCV(estimator = KNeighborsClassifier(), param_grid = parametros)\n",
    "gridsearch.fit(x_heart, y_heart)"
   ]
  },
  {
   "cell_type": "code",
   "execution_count": 43,
   "metadata": {},
   "outputs": [
    {
     "name": "stdout",
     "output_type": "stream",
     "text": [
      "{'metric': 'manhattan', 'n_neighbors': 20, 'p': 1}\n",
      "0.7330898075552387\n"
     ]
    }
   ],
   "source": [
    "melhores_parametros = gridsearch.best_params_\n",
    "melhor_resultado = gridsearch.best_score_\n",
    "print(melhores_parametros)\n",
    "print(melhor_resultado)"
   ]
  },
  {
   "cell_type": "markdown",
   "metadata": {},
   "source": [
    "### Support vector"
   ]
  },
  {
   "cell_type": "code",
   "execution_count": 44,
   "metadata": {},
   "outputs": [
    {
     "data": {
      "text/plain": [
       "GridSearchCV(estimator=SVC(),\n",
       "             param_grid={'C': [1.0, 1.5, 2.0],\n",
       "                         'kernel': ['rbf', 'sigmoid', 'linear', 'poly'],\n",
       "                         'tol': [0.0001, 1e-05, 1e-06]})"
      ]
     },
     "execution_count": 44,
     "metadata": {},
     "output_type": "execute_result"
    }
   ],
   "source": [
    "parametros = {'tol':[0.0001, 0.00001, 0.000001],\n",
    "              'C': [1.0, 1.5, 2.0],\n",
    "             'kernel':['rbf', 'sigmoid', 'linear', 'poly']}\n",
    "gridsearch = GridSearchCV(estimator= SVC(), param_grid = parametros)\n",
    "gridsearch.fit(x_heart, y_heart)"
   ]
  },
  {
   "cell_type": "code",
   "execution_count": 45,
   "metadata": {},
   "outputs": [
    {
     "name": "stdout",
     "output_type": "stream",
     "text": [
      "{'C': 1.5, 'kernel': 'linear', 'tol': 0.0001}\n",
      "0.8180446661914944\n"
     ]
    }
   ],
   "source": [
    "melhores_parametros = gridsearch.best_params_\n",
    "melhor_resultado = gridsearch.best_score_\n",
    "print(melhores_parametros)\n",
    "print(melhor_resultado)"
   ]
  },
  {
   "cell_type": "markdown",
   "metadata": {},
   "source": [
    "### Neural Network\n"
   ]
  },
  {
   "cell_type": "code",
   "execution_count": 46,
   "metadata": {},
   "outputs": [
    {
     "data": {
      "text/plain": [
       "GridSearchCV(estimator=MLPClassifier(max_iter=400),\n",
       "             param_grid={'activation': ['relu', 'logistic', 'tanh'],\n",
       "                         'batch_size': [10, 58], 'solver': ['adam', 'sgd']})"
      ]
     },
     "execution_count": 46,
     "metadata": {},
     "output_type": "execute_result"
    }
   ],
   "source": [
    "parametros = {'activation':['relu', 'logistic', 'tanh'],\n",
    "              'solver': ['adam', 'sgd'],\n",
    "             'batch_size': [10, 58]}\n",
    "gridsearch = GridSearchCV(estimator= MLPClassifier(max_iter=400), param_grid = parametros)\n",
    "gridsearch.fit(x_heart, y_heart)"
   ]
  },
  {
   "cell_type": "code",
   "execution_count": 47,
   "metadata": {},
   "outputs": [
    {
     "name": "stdout",
     "output_type": "stream",
     "text": [
      "{'activation': 'logistic', 'batch_size': 10, 'solver': 'adam'}\n",
      "0.8158232359230221\n"
     ]
    }
   ],
   "source": [
    "melhores_parametros = gridsearch.best_params_\n",
    "melhor_resultado = gridsearch.best_score_\n",
    "print(melhores_parametros)\n",
    "print(melhor_resultado)"
   ]
  },
  {
   "cell_type": "code",
   "execution_count": 48,
   "metadata": {},
   "outputs": [],
   "source": [
    "from sklearn.model_selection import cross_val_score, KFold"
   ]
  },
  {
   "cell_type": "code",
   "execution_count": 49,
   "metadata": {},
   "outputs": [],
   "source": [
    "resultados_arvore = []\n",
    "resultados_random_forest = []\n",
    "resultados_knn = []\n",
    "resultados_svm = []\n",
    "resultados_neural_network = []\n",
    "\n",
    "for i in range(30):\n",
    "    kfold = KFold(n_splits=10, shuffle=True, random_state=i)\n",
    "    \n",
    "    arvore = DecisionTreeClassifier(criterion='gini', min_samples_leaf=20, min_samples_split= 2, splitter= 'random')\n",
    "    score = cross_val_score(arvore, x_heart, y_heart, cv = kfold)\n",
    "    resultados_arvore.append(score.mean())\n",
    "    \n",
    "    randomforest = RandomForestClassifier(criterion='entropy', min_samples_leaf=20, min_samples_split=2, n_estimators= 20)\n",
    "    score = cross_val_score(randomforest, x_heart, y_heart, cv = kfold)\n",
    "    resultados_random_forest.append(score.mean())\n",
    "    \n",
    "    knn = KNeighborsClassifier(metric= 'manhattan', n_neighbors= 20, p= 1)\n",
    "    score = cross_val_score(knn, x_heart, y_heart, cv = kfold)\n",
    "    resultados_knn.append(score.mean())\n",
    "    \n",
    "    svm = SVC(C= 1.5, kernel= 'linear', tol= 0.0001)\n",
    "    score = cross_val_score(svm,x_heart, y_heart, cv = kfold)\n",
    "    resultados_svm.append(score.mean())\n",
    "    \n",
    "    neural = MLPClassifier(activation= 'relu', batch_size= 58, solver= 'adam')\n",
    "    score = cross_val_score(neural,x_heart, y_heart, cv = kfold)\n",
    "    resultados_neural_network.append(score.mean())"
   ]
  },
  {
   "cell_type": "code",
   "execution_count": 50,
   "metadata": {},
   "outputs": [
    {
     "data": {
      "text/html": [
       "<div>\n",
       "<style scoped>\n",
       "    .dataframe tbody tr th:only-of-type {\n",
       "        vertical-align: middle;\n",
       "    }\n",
       "\n",
       "    .dataframe tbody tr th {\n",
       "        vertical-align: top;\n",
       "    }\n",
       "\n",
       "    .dataframe thead th {\n",
       "        text-align: right;\n",
       "    }\n",
       "</style>\n",
       "<table border=\"1\" class=\"dataframe\">\n",
       "  <thead>\n",
       "    <tr style=\"text-align: right;\">\n",
       "      <th></th>\n",
       "      <th>Arvore</th>\n",
       "      <th>Random Forest</th>\n",
       "      <th>KNN</th>\n",
       "      <th>SVM</th>\n",
       "      <th>Rede Neural</th>\n",
       "    </tr>\n",
       "  </thead>\n",
       "  <tbody>\n",
       "    <tr>\n",
       "      <th>0</th>\n",
       "      <td>0.839907</td>\n",
       "      <td>0.864895</td>\n",
       "      <td>0.742869</td>\n",
       "      <td>0.859448</td>\n",
       "      <td>0.823483</td>\n",
       "    </tr>\n",
       "    <tr>\n",
       "      <th>1</th>\n",
       "      <td>0.843072</td>\n",
       "      <td>0.863808</td>\n",
       "      <td>0.737482</td>\n",
       "      <td>0.858349</td>\n",
       "      <td>0.828942</td>\n",
       "    </tr>\n",
       "    <tr>\n",
       "      <th>2</th>\n",
       "      <td>0.832286</td>\n",
       "      <td>0.858397</td>\n",
       "      <td>0.736419</td>\n",
       "      <td>0.854049</td>\n",
       "      <td>0.832286</td>\n",
       "    </tr>\n",
       "    <tr>\n",
       "      <th>3</th>\n",
       "      <td>0.832191</td>\n",
       "      <td>0.854037</td>\n",
       "      <td>0.748304</td>\n",
       "      <td>0.862769</td>\n",
       "      <td>0.818060</td>\n",
       "    </tr>\n",
       "    <tr>\n",
       "      <th>4</th>\n",
       "      <td>0.835463</td>\n",
       "      <td>0.856187</td>\n",
       "      <td>0.741746</td>\n",
       "      <td>0.855088</td>\n",
       "      <td>0.836527</td>\n",
       "    </tr>\n",
       "    <tr>\n",
       "      <th>5</th>\n",
       "      <td>0.848555</td>\n",
       "      <td>0.863784</td>\n",
       "      <td>0.737375</td>\n",
       "      <td>0.857274</td>\n",
       "      <td>0.821261</td>\n",
       "    </tr>\n",
       "    <tr>\n",
       "      <th>6</th>\n",
       "      <td>0.836550</td>\n",
       "      <td>0.854013</td>\n",
       "      <td>0.738557</td>\n",
       "      <td>0.855053</td>\n",
       "      <td>0.813677</td>\n",
       "    </tr>\n",
       "    <tr>\n",
       "      <th>7</th>\n",
       "      <td>0.835535</td>\n",
       "      <td>0.863808</td>\n",
       "      <td>0.738521</td>\n",
       "      <td>0.859388</td>\n",
       "      <td>0.834341</td>\n",
       "    </tr>\n",
       "    <tr>\n",
       "      <th>8</th>\n",
       "      <td>0.836622</td>\n",
       "      <td>0.862745</td>\n",
       "      <td>0.743000</td>\n",
       "      <td>0.857346</td>\n",
       "      <td>0.808421</td>\n",
       "    </tr>\n",
       "    <tr>\n",
       "      <th>9</th>\n",
       "      <td>0.840934</td>\n",
       "      <td>0.861694</td>\n",
       "      <td>0.742845</td>\n",
       "      <td>0.860583</td>\n",
       "      <td>0.846452</td>\n",
       "    </tr>\n",
       "    <tr>\n",
       "      <th>10</th>\n",
       "      <td>0.845294</td>\n",
       "      <td>0.863808</td>\n",
       "      <td>0.750585</td>\n",
       "      <td>0.859436</td>\n",
       "      <td>0.816937</td>\n",
       "    </tr>\n",
       "    <tr>\n",
       "      <th>11</th>\n",
       "      <td>0.838820</td>\n",
       "      <td>0.856211</td>\n",
       "      <td>0.731940</td>\n",
       "      <td>0.855208</td>\n",
       "      <td>0.815898</td>\n",
       "    </tr>\n",
       "    <tr>\n",
       "      <th>12</th>\n",
       "      <td>0.830100</td>\n",
       "      <td>0.859436</td>\n",
       "      <td>0.744983</td>\n",
       "      <td>0.852914</td>\n",
       "      <td>0.788581</td>\n",
       "    </tr>\n",
       "    <tr>\n",
       "      <th>13</th>\n",
       "      <td>0.832226</td>\n",
       "      <td>0.862685</td>\n",
       "      <td>0.739632</td>\n",
       "      <td>0.856175</td>\n",
       "      <td>0.835511</td>\n",
       "    </tr>\n",
       "    <tr>\n",
       "      <th>14</th>\n",
       "      <td>0.840946</td>\n",
       "      <td>0.862745</td>\n",
       "      <td>0.741758</td>\n",
       "      <td>0.861694</td>\n",
       "      <td>0.824725</td>\n",
       "    </tr>\n",
       "    <tr>\n",
       "      <th>15</th>\n",
       "      <td>0.837745</td>\n",
       "      <td>0.867117</td>\n",
       "      <td>0.751672</td>\n",
       "      <td>0.857310</td>\n",
       "      <td>0.828978</td>\n",
       "    </tr>\n",
       "    <tr>\n",
       "      <th>16</th>\n",
       "      <td>0.832322</td>\n",
       "      <td>0.856319</td>\n",
       "      <td>0.735356</td>\n",
       "      <td>0.854109</td>\n",
       "      <td>0.826887</td>\n",
       "    </tr>\n",
       "    <tr>\n",
       "      <th>17</th>\n",
       "      <td>0.843108</td>\n",
       "      <td>0.863808</td>\n",
       "      <td>0.731976</td>\n",
       "      <td>0.857250</td>\n",
       "      <td>0.842069</td>\n",
       "    </tr>\n",
       "    <tr>\n",
       "      <th>18</th>\n",
       "      <td>0.847527</td>\n",
       "      <td>0.856271</td>\n",
       "      <td>0.733122</td>\n",
       "      <td>0.861670</td>\n",
       "      <td>0.829001</td>\n",
       "    </tr>\n",
       "    <tr>\n",
       "      <th>19</th>\n",
       "      <td>0.844171</td>\n",
       "      <td>0.847432</td>\n",
       "      <td>0.733098</td>\n",
       "      <td>0.857286</td>\n",
       "      <td>0.827867</td>\n",
       "    </tr>\n",
       "    <tr>\n",
       "      <th>20</th>\n",
       "      <td>0.846381</td>\n",
       "      <td>0.860607</td>\n",
       "      <td>0.742869</td>\n",
       "      <td>0.855136</td>\n",
       "      <td>0.776756</td>\n",
       "    </tr>\n",
       "    <tr>\n",
       "      <th>21</th>\n",
       "      <td>0.832238</td>\n",
       "      <td>0.849677</td>\n",
       "      <td>0.737410</td>\n",
       "      <td>0.853989</td>\n",
       "      <td>0.839847</td>\n",
       "    </tr>\n",
       "    <tr>\n",
       "      <th>22</th>\n",
       "      <td>0.827903</td>\n",
       "      <td>0.858337</td>\n",
       "      <td>0.733146</td>\n",
       "      <td>0.850776</td>\n",
       "      <td>0.827962</td>\n",
       "    </tr>\n",
       "    <tr>\n",
       "      <th>23</th>\n",
       "      <td>0.831199</td>\n",
       "      <td>0.861682</td>\n",
       "      <td>0.739632</td>\n",
       "      <td>0.859496</td>\n",
       "      <td>0.818168</td>\n",
       "    </tr>\n",
       "    <tr>\n",
       "      <th>24</th>\n",
       "      <td>0.836634</td>\n",
       "      <td>0.851828</td>\n",
       "      <td>0.741842</td>\n",
       "      <td>0.856259</td>\n",
       "      <td>0.834412</td>\n",
       "    </tr>\n",
       "    <tr>\n",
       "      <th>25</th>\n",
       "      <td>0.851839</td>\n",
       "      <td>0.856187</td>\n",
       "      <td>0.741914</td>\n",
       "      <td>0.856211</td>\n",
       "      <td>0.802819</td>\n",
       "    </tr>\n",
       "    <tr>\n",
       "      <th>26</th>\n",
       "      <td>0.843156</td>\n",
       "      <td>0.856247</td>\n",
       "      <td>0.747324</td>\n",
       "      <td>0.857274</td>\n",
       "      <td>0.827879</td>\n",
       "    </tr>\n",
       "    <tr>\n",
       "      <th>27</th>\n",
       "      <td>0.846476</td>\n",
       "      <td>0.868275</td>\n",
       "      <td>0.740731</td>\n",
       "      <td>0.850776</td>\n",
       "      <td>0.824558</td>\n",
       "    </tr>\n",
       "    <tr>\n",
       "      <th>28</th>\n",
       "      <td>0.839811</td>\n",
       "      <td>0.860547</td>\n",
       "      <td>0.747193</td>\n",
       "      <td>0.857274</td>\n",
       "      <td>0.819159</td>\n",
       "    </tr>\n",
       "    <tr>\n",
       "      <th>29</th>\n",
       "      <td>0.832322</td>\n",
       "      <td>0.850729</td>\n",
       "      <td>0.734233</td>\n",
       "      <td>0.857310</td>\n",
       "      <td>0.832298</td>\n",
       "    </tr>\n",
       "  </tbody>\n",
       "</table>\n",
       "</div>"
      ],
      "text/plain": [
       "      Arvore  Random Forest       KNN       SVM  Rede Neural\n",
       "0   0.839907       0.864895  0.742869  0.859448     0.823483\n",
       "1   0.843072       0.863808  0.737482  0.858349     0.828942\n",
       "2   0.832286       0.858397  0.736419  0.854049     0.832286\n",
       "3   0.832191       0.854037  0.748304  0.862769     0.818060\n",
       "4   0.835463       0.856187  0.741746  0.855088     0.836527\n",
       "5   0.848555       0.863784  0.737375  0.857274     0.821261\n",
       "6   0.836550       0.854013  0.738557  0.855053     0.813677\n",
       "7   0.835535       0.863808  0.738521  0.859388     0.834341\n",
       "8   0.836622       0.862745  0.743000  0.857346     0.808421\n",
       "9   0.840934       0.861694  0.742845  0.860583     0.846452\n",
       "10  0.845294       0.863808  0.750585  0.859436     0.816937\n",
       "11  0.838820       0.856211  0.731940  0.855208     0.815898\n",
       "12  0.830100       0.859436  0.744983  0.852914     0.788581\n",
       "13  0.832226       0.862685  0.739632  0.856175     0.835511\n",
       "14  0.840946       0.862745  0.741758  0.861694     0.824725\n",
       "15  0.837745       0.867117  0.751672  0.857310     0.828978\n",
       "16  0.832322       0.856319  0.735356  0.854109     0.826887\n",
       "17  0.843108       0.863808  0.731976  0.857250     0.842069\n",
       "18  0.847527       0.856271  0.733122  0.861670     0.829001\n",
       "19  0.844171       0.847432  0.733098  0.857286     0.827867\n",
       "20  0.846381       0.860607  0.742869  0.855136     0.776756\n",
       "21  0.832238       0.849677  0.737410  0.853989     0.839847\n",
       "22  0.827903       0.858337  0.733146  0.850776     0.827962\n",
       "23  0.831199       0.861682  0.739632  0.859496     0.818168\n",
       "24  0.836634       0.851828  0.741842  0.856259     0.834412\n",
       "25  0.851839       0.856187  0.741914  0.856211     0.802819\n",
       "26  0.843156       0.856247  0.747324  0.857274     0.827879\n",
       "27  0.846476       0.868275  0.740731  0.850776     0.824558\n",
       "28  0.839811       0.860547  0.747193  0.857274     0.819159\n",
       "29  0.832322       0.850729  0.734233  0.857310     0.832298"
      ]
     },
     "execution_count": 50,
     "metadata": {},
     "output_type": "execute_result"
    }
   ],
   "source": [
    "resultados = pd.DataFrame({'Arvore': resultados_arvore,\n",
    "                          'Random Forest': resultados_random_forest,\n",
    "                          'KNN': resultados_knn,\n",
    "                          'SVM': resultados_svm,\n",
    "                          'Rede Neural': resultados_neural_network})\n",
    "resultados"
   ]
  },
  {
   "cell_type": "code",
   "execution_count": 51,
   "metadata": {},
   "outputs": [
    {
     "data": {
      "text/html": [
       "<div>\n",
       "<style scoped>\n",
       "    .dataframe tbody tr th:only-of-type {\n",
       "        vertical-align: middle;\n",
       "    }\n",
       "\n",
       "    .dataframe tbody tr th {\n",
       "        vertical-align: top;\n",
       "    }\n",
       "\n",
       "    .dataframe thead th {\n",
       "        text-align: right;\n",
       "    }\n",
       "</style>\n",
       "<table border=\"1\" class=\"dataframe\">\n",
       "  <thead>\n",
       "    <tr style=\"text-align: right;\">\n",
       "      <th></th>\n",
       "      <th>Arvore</th>\n",
       "      <th>Random Forest</th>\n",
       "      <th>KNN</th>\n",
       "      <th>SVM</th>\n",
       "      <th>Rede Neural</th>\n",
       "    </tr>\n",
       "  </thead>\n",
       "  <tbody>\n",
       "    <tr>\n",
       "      <th>count</th>\n",
       "      <td>30.000000</td>\n",
       "      <td>30.000000</td>\n",
       "      <td>30.000000</td>\n",
       "      <td>30.000000</td>\n",
       "      <td>30.000000</td>\n",
       "    </tr>\n",
       "    <tr>\n",
       "      <th>mean</th>\n",
       "      <td>0.838711</td>\n",
       "      <td>0.859111</td>\n",
       "      <td>0.740251</td>\n",
       "      <td>0.856897</td>\n",
       "      <td>0.823459</td>\n",
       "    </tr>\n",
       "    <tr>\n",
       "      <th>std</th>\n",
       "      <td>0.006274</td>\n",
       "      <td>0.005251</td>\n",
       "      <td>0.005434</td>\n",
       "      <td>0.002949</td>\n",
       "      <td>0.014791</td>\n",
       "    </tr>\n",
       "    <tr>\n",
       "      <th>min</th>\n",
       "      <td>0.827903</td>\n",
       "      <td>0.847432</td>\n",
       "      <td>0.731940</td>\n",
       "      <td>0.850776</td>\n",
       "      <td>0.776756</td>\n",
       "    </tr>\n",
       "    <tr>\n",
       "      <th>25%</th>\n",
       "      <td>0.832322</td>\n",
       "      <td>0.856193</td>\n",
       "      <td>0.736658</td>\n",
       "      <td>0.855100</td>\n",
       "      <td>0.818087</td>\n",
       "    </tr>\n",
       "    <tr>\n",
       "      <th>50%</th>\n",
       "      <td>0.838282</td>\n",
       "      <td>0.859992</td>\n",
       "      <td>0.740182</td>\n",
       "      <td>0.857274</td>\n",
       "      <td>0.827377</td>\n",
       "    </tr>\n",
       "    <tr>\n",
       "      <th>75%</th>\n",
       "      <td>0.843144</td>\n",
       "      <td>0.863524</td>\n",
       "      <td>0.742869</td>\n",
       "      <td>0.859129</td>\n",
       "      <td>0.832295</td>\n",
       "    </tr>\n",
       "    <tr>\n",
       "      <th>max</th>\n",
       "      <td>0.851839</td>\n",
       "      <td>0.868275</td>\n",
       "      <td>0.751672</td>\n",
       "      <td>0.862769</td>\n",
       "      <td>0.846452</td>\n",
       "    </tr>\n",
       "  </tbody>\n",
       "</table>\n",
       "</div>"
      ],
      "text/plain": [
       "          Arvore  Random Forest        KNN        SVM  Rede Neural\n",
       "count  30.000000      30.000000  30.000000  30.000000    30.000000\n",
       "mean    0.838711       0.859111   0.740251   0.856897     0.823459\n",
       "std     0.006274       0.005251   0.005434   0.002949     0.014791\n",
       "min     0.827903       0.847432   0.731940   0.850776     0.776756\n",
       "25%     0.832322       0.856193   0.736658   0.855100     0.818087\n",
       "50%     0.838282       0.859992   0.740182   0.857274     0.827377\n",
       "75%     0.843144       0.863524   0.742869   0.859129     0.832295\n",
       "max     0.851839       0.868275   0.751672   0.862769     0.846452"
      ]
     },
     "execution_count": 51,
     "metadata": {},
     "output_type": "execute_result"
    }
   ],
   "source": [
    "resultados.describe()"
   ]
  },
  {
   "cell_type": "code",
   "execution_count": 52,
   "metadata": {},
   "outputs": [
    {
     "data": {
      "text/plain": [
       "Arvore           0.000039\n",
       "Random Forest    0.000028\n",
       "KNN              0.000030\n",
       "SVM              0.000009\n",
       "Rede Neural      0.000219\n",
       "dtype: float64"
      ]
     },
     "execution_count": 52,
     "metadata": {},
     "output_type": "execute_result"
    }
   ],
   "source": [
    "resultados.var()"
   ]
  },
  {
   "cell_type": "code",
   "execution_count": 56,
   "metadata": {},
   "outputs": [
    {
     "data": {
      "text/plain": [
       "Arvore           0.526232\n",
       "Random Forest    0.451111\n",
       "KNN              0.402236\n",
       "SVM              0.252734\n",
       "Rede Neural      1.218009\n",
       "dtype: float64"
      ]
     },
     "execution_count": 56,
     "metadata": {},
     "output_type": "execute_result"
    }
   ],
   "source": [
    "(resultados.std()* resultados.mean()) *100"
   ]
  },
  {
   "cell_type": "code",
   "execution_count": null,
   "metadata": {},
   "outputs": [],
   "source": []
  }
 ],
 "metadata": {
  "kernelspec": {
   "display_name": "Python 3",
   "language": "python",
   "name": "python3"
  },
  "language_info": {
   "codemirror_mode": {
    "name": "ipython",
    "version": 3
   },
   "file_extension": ".py",
   "mimetype": "text/x-python",
   "name": "python",
   "nbconvert_exporter": "python",
   "pygments_lexer": "ipython3",
   "version": "3.8.5"
  }
 },
 "nbformat": 4,
 "nbformat_minor": 4
}
